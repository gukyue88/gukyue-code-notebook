{
 "cells": [
  {
   "cell_type": "markdown",
   "metadata": {},
   "source": [
    "# pyplot 정의 파고들기!\n",
    "\n",
    "자료 : [API Overview](https://matplotlib.org/api/index.html)"
   ]
  },
  {
   "cell_type": "markdown",
   "metadata": {},
   "source": [
    "## API Overview\n",
    "\n",
    "- [사용패턴](#사용패턴)\n",
    "    - pyplot API\n",
    "    - object-oriented API\n",
    "    - pylab API (비승인)\n",
    "- Modules\n",
    "- toolkits"
   ]
  },
  {
   "cell_type": "markdown",
   "metadata": {},
   "source": [
    "## 사용패턴\n",
    "\n",
    "matplotlib로 그래프를 그리는 접근 방식 설명"
   ]
  },
  {
   "cell_type": "markdown",
   "metadata": {},
   "source": [
    "### pyplot API\n",
    "\n",
    "- matplotlib.pyplot은 MATLAB처럼 작동하도록 명령스타일 함수 모음이다. (matplotlib의 상태기반 인터페이스)\n",
    "- 각 pyplot함수는 figure를 약간씩 변화시킨다. (figure 생성, figure에 그림영역 생성, 그림영역에 선그리기, label로 plot 꾸미기 등)\n",
    "- pyplot은 주로 대화형 plot과 간단한 프로그래밍 plot 생성을 위한 것이다."
   ]
  },
  {
   "cell_type": "markdown",
   "metadata": {},
   "source": [
    "### The object-oriented API\n",
    "\n",
    "- matplotlib의 코어부분은 객체지향적이다.\n",
    "- 좀 더 상세한 조절이나 커스터마이징을 원한다면, 객체로 직접 작업하는 것을 추천한다.\n",
    "- 대부분의 경우에는 pyplot.subplot을 통해 하나 혹은 그 이상의 Axes와 하나의 figure를 생성할 것이다.\n",
    "- 그러나 figure를 명시적으로 생성 가능하다. (예. GUI 애플리케이현에 그것들을 포함할 때...)\n",
    "- 더 읽을 거리 : [matplotlib.axes.Axes](https://matplotlib.org/api/axes_api.html#matplotlib.axes.Axes) and [matplotlib.figure.Figure](https://matplotlib.org/api/axes_api.html#matplotlib.axes.Axes)"
   ]
  },
  {
   "cell_type": "markdown",
   "metadata": {},
   "source": [
    "### The pylab API (비승인)\n",
    "\n",
    "비추천\n",
    "\n",
    "- pylab은 matplotlib.pyplot, numpy, numpy.fft, numpy.linalg 등을 포함한 모듈이다.\n",
    "- 원래 목적은 MATLAB을 모방하는 것이었으나, 요즘은 이것이 나쁜 스타일로 간주된다."
   ]
  }
 ],
 "metadata": {
  "kernelspec": {
   "display_name": "Python 3",
   "language": "python",
   "name": "python3"
  },
  "language_info": {
   "codemirror_mode": {
    "name": "ipython",
    "version": 3
   },
   "file_extension": ".py",
   "mimetype": "text/x-python",
   "name": "python",
   "nbconvert_exporter": "python",
   "pygments_lexer": "ipython3",
   "version": "3.6.9"
  }
 },
 "nbformat": 4,
 "nbformat_minor": 4
}
